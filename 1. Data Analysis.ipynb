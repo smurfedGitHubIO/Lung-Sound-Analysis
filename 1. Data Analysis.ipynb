{
 "cells": [
  {
   "cell_type": "markdown",
   "id": "f0e77403-112e-43fe-ba1c-fc73834c3f06",
   "metadata": {},
   "source": [
    "Dataset source: https://data.mendeley.com/datasets/jwyy9np4gv/3\n",
    "\n",
    "Recorded using anelectronic stethoscope 3200, 3M Littmann."
   ]
  },
  {
   "cell_type": "markdown",
   "id": "0c332b80-9a52-4be9-82d5-7ec9c1c838a6",
   "metadata": {},
   "source": [
    "```\n",
    "The system provides a built-in ambient and frictional reduction technology. All signals were acquired at a sampling rate of 4 kHz using a 16-bit quantizer and were bandlimited to an extended frequency range of 20-2 kHz. Moreover, the frequency response between 50 and 500 Hz was attenuated at the acquisition stage to minimize the interference of heart beats sounds.\n",
    "```"
   ]
  },
  {
   "cell_type": "markdown",
   "id": "9735e37e-2e19-4a10-a31f-185bc44869ec",
   "metadata": {},
   "source": [
    "It is also note-worthy that the 3M Littman electronic stethoscope is capable of noise reduction."
   ]
  },
  {
   "cell_type": "markdown",
   "id": "37bebaa5-53f7-4b97-b3ff-d2c4a1cd7886",
   "metadata": {},
   "source": [
    "```\n",
    "    Active Noise Cancellation\r",
    "    \n",
    "Help cut out distracting noises common to hectic environments with our  active noise cancellation technology. It can help you listen by reducin  unwanted outside background noise so you can focus on listening to what’s important: your patient and their body sounds. Hear the difference\n",
    "```\n",
    "Source: https://www.littmann.com/3M/en_US/littmann-stethoscopes/advantages/core-digital-stethoscope/"
   ]
  },
  {
   "cell_type": "code",
   "execution_count": 18,
   "id": "e8c4d454-7e7f-4d62-8cb5-cf840698a9c2",
   "metadata": {},
   "outputs": [],
   "source": [
    "import numpy as np\n",
    "import matplotlib.pyplot as plt\n",
    "import os"
   ]
  },
  {
   "cell_type": "code",
   "execution_count": null,
   "id": "79b0803b-314d-4b08-b467-a40876a05ef7",
   "metadata": {},
   "outputs": [],
   "source": [
    "types = os.listdir('./data')"
   ]
  },
  {
   "cell_type": "code",
   "execution_count": 34,
   "id": "538ac4af-bb59-479e-9b74-e8aace168ab7",
   "metadata": {},
   "outputs": [
    {
     "name": "stdout",
     "output_type": "stream",
     "text": [
      "desktop.ini Asthma\n"
     ]
    }
   ],
   "source": [
    "for type in types:\n",
    "    # print(os.listdir(f'./data/{type}')[-1])\n",
    "    for audio_file in os.listdir(f'./data/{type}'):\n",
    "        if audio_file[-3:] != 'wav':\n",
    "            print(audio_file, type)"
   ]
  },
  {
   "cell_type": "markdown",
   "id": "09c1e065-8c96-4b65-87fc-e2ee8a94c5b0",
   "metadata": {},
   "source": [
    "`desktop.ini` found in Asthma folder."
   ]
  },
  {
   "cell_type": "code",
   "execution_count": 35,
   "id": "94c094a3-8539-459b-87e2-e664861d57a2",
   "metadata": {},
   "outputs": [],
   "source": [
    "for type in types:\n",
    "    # print(os.listdir(f'./data/{type}')[-1])\n",
    "    for audio_file in os.listdir(f'./data/{type}'):\n",
    "        if audio_file[-3:] != 'wav':\n",
    "            os.remove(f'./data/{type}/{audio_file}')"
   ]
  },
  {
   "cell_type": "code",
   "execution_count": 66,
   "id": "9e58dabf-dd48-4aff-aa17-693049c9f755",
   "metadata": {},
   "outputs": [
    {
     "name": "stdout",
     "output_type": "stream",
     "text": [
      "Asthma: 99 samples\n",
      "Normal: 105 samples\n",
      "Pneumonia: 15 samples\n",
      "Pulmonary Congestion: 63 samples\n"
     ]
    }
   ],
   "source": [
    "for type in types:\n",
    "    lent = len(os.listdir(f'./data/{type}'))\n",
    "    print(f'{type}: {lent} samples')"
   ]
  },
  {
   "cell_type": "code",
   "execution_count": 38,
   "id": "b057e222-88fe-4a9f-90a4-a7bec4ac36fe",
   "metadata": {},
   "outputs": [],
   "source": [
    "sampling_rate_dictionary = {}\n",
    "\n",
    "for type in types:\n",
    "    sampling_rate_dictionary[type] = {}\n",
    "    # print(os.listdir(f'./data/{type}')[-1])\n",
    "    for audio_file in os.listdir(f'./data/{type}'):\n",
    "        signal, sr = librosa.load(f'./data/{type}/{audio_file}')\n",
    "        if str(sr) not in sampling_rate_dictionary[type]:\n",
    "            sampling_rate_dictionary[type][str(sr)] = 1\n",
    "        else:\n",
    "            sampling_rate_dictionary[type][str(sr)] += 1"
   ]
  },
  {
   "cell_type": "code",
   "execution_count": 39,
   "id": "77321fd0-0ecf-4909-a884-080ef7407bba",
   "metadata": {},
   "outputs": [
    {
     "name": "stdout",
     "output_type": "stream",
     "text": [
      "{'22050': 99}\n",
      "{'22050': 105}\n",
      "{'22050': 15}\n",
      "{'22050': 63}\n"
     ]
    }
   ],
   "source": [
    "for type in types:\n",
    "    print(sampling_rate_dictionary[type])"
   ]
  },
  {
   "cell_type": "markdown",
   "id": "5007b3f1-94e7-428d-891f-92f929e10a22",
   "metadata": {},
   "source": [
    "As we can see, all sampling rate for all audio files are in 22050 hertz."
   ]
  },
  {
   "cell_type": "markdown",
   "id": "ab4b9e33-2b5a-47c6-9736-0098cb8bfdef",
   "metadata": {},
   "source": [
    "We proceed to check the average length of the audio files."
   ]
  },
  {
   "cell_type": "code",
   "execution_count": 59,
   "id": "255e1945-6976-4999-9865-c6ee8c7e5e99",
   "metadata": {},
   "outputs": [
    {
     "name": "stdout",
     "output_type": "stream",
     "text": [
      "Asthma\n",
      "count    29.000000\n",
      "mean     16.296847\n",
      "std       5.408483\n",
      "min       5.936009\n",
      "25%      12.528027\n",
      "50%      15.344036\n",
      "75%      19.888027\n",
      "max      30.000000\n",
      "dtype: float64\n",
      "Normal\n",
      "count    34.000000\n",
      "mean     17.971783\n",
      "std       4.948170\n",
      "min       9.840000\n",
      "25%      13.600023\n",
      "50%      17.904014\n",
      "75%      21.584036\n",
      "max      27.888027\n",
      "dtype: float64\n",
      "Pneumonia\n",
      "count     5.000000\n",
      "mean     19.580816\n",
      "std       9.024375\n",
      "min       9.072018\n",
      "25%      11.184036\n",
      "50%      23.472018\n",
      "75%      24.176009\n",
      "max      30.000000\n",
      "dtype: float64\n",
      "Pulmonary Congestion\n",
      "count    20.000000\n",
      "mean     17.049621\n",
      "std       5.676013\n",
      "min       8.368027\n",
      "25%      13.072029\n",
      "50%      15.248005\n",
      "75%      22.160023\n",
      "max      27.568027\n",
      "dtype: float64\n"
     ]
    }
   ],
   "source": [
    "import pandas as pd\n",
    "\n",
    "def func(x):\n",
    "    signal, sr = librosa.load(x)\n",
    "    return len(signal)/sr\n",
    "\n",
    "for type in types:\n",
    "    audio_length_series = pd.Series(os.listdir(f'./data/{type}'))\n",
    "    prefix_series = pd.Series([f'./data/{type}/' for i in range(audio_length_series.size)])\n",
    "    audio_length_series = prefix_series+audio_length_series\n",
    "    audio_length_series = audio_length_series.apply(func)\n",
    "    print(f'{type}')\n",
    "    print(pd.Series(audio_length_series.value_counts().index.tolist()).describe())"
   ]
  },
  {
   "cell_type": "markdown",
   "id": "488af942-571d-4394-a12a-834961d66167",
   "metadata": {},
   "source": [
    "The average lung sounds for all types is between 16 and 20 seconds.\n",
    "\n",
    "The maximum recording length is at 30 seconds and has a minimum recording length between 6 and 10 seconds."
   ]
  },
  {
   "cell_type": "markdown",
   "id": "f8fcbc5e-2b50-4f12-9067-208cc281669d",
   "metadata": {},
   "source": [
    "The researchers can opt to adjust the recording length of each audio files then apply data augmentation to increase the amount/size of each type."
   ]
  },
  {
   "cell_type": "markdown",
   "id": "f91dfe78-7b1d-46e0-a2f2-e8a3c5f07d03",
   "metadata": {},
   "source": [
    "The original researchers that utilized the dataset proceeded to do feature extraction right after the acquisition of data."
   ]
  },
  {
   "cell_type": "code",
   "execution_count": null,
   "id": "778f14a9-1ca6-4031-95cc-dbb961ae98ca",
   "metadata": {},
   "outputs": [],
   "source": []
  }
 ],
 "metadata": {
  "kernelspec": {
   "display_name": "Python 3 (ipykernel)",
   "language": "python",
   "name": "python3"
  },
  "language_info": {
   "codemirror_mode": {
    "name": "ipython",
    "version": 3
   },
   "file_extension": ".py",
   "mimetype": "text/x-python",
   "name": "python",
   "nbconvert_exporter": "python",
   "pygments_lexer": "ipython3",
   "version": "3.11.5"
  }
 },
 "nbformat": 4,
 "nbformat_minor": 5
}
