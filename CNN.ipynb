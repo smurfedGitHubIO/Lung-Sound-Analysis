{
 "cells": [
  {
   "cell_type": "code",
   "execution_count": 4,
   "id": "1a0d2a69-fa67-4e21-95ca-f4cf6b0aa58c",
   "metadata": {},
   "outputs": [],
   "source": [
    "import matplotlib.pyplot as plt\n",
    "import numpy as np\n",
    "import os\n",
    "import librosa\n",
    "import torch\n",
    "import torch.nn as nn\n",
    "import torch.optim as optim\n",
    "from torchvision import transforms\n",
    "from torchvision.datasets import ImageFolder\n",
    "import tensorflow as tf\n",
    "from tensorflow.keras.preprocessing.image import ImageDataGenerator\n",
    "from tensorflow.keras.models import Sequential\n",
    "from tensorflow.keras.layers import Conv2D, MaxPooling2D, Flatten, Dense, BatchNormalization, Dropout, Reshape, LSTM\n",
    "from torch.utils.data import DataLoader\n",
    "from sklearn.model_selection import KFold"
   ]
  },
  {
   "cell_type": "code",
   "execution_count": 5,
   "id": "f7ab8531-3c06-40eb-a46c-c8399c788069",
   "metadata": {},
   "outputs": [],
   "source": [
    "data_directory = './data/Train-Test Set 2'\n",
    "\n",
    "transform = transforms.Compose([\n",
    "    transforms.Resize((640, 480)),\n",
    "    transforms.ToTensor(),\n",
    "])\n",
    "\n",
    "custom_dataset = ImageFolder(root=data_directory, transform=transform)"
   ]
  },
  {
   "cell_type": "code",
   "execution_count": 6,
   "id": "2974f8aa-d875-4e2b-a8b8-e65e823d5c53",
   "metadata": {},
   "outputs": [
    {
     "data": {
      "text/plain": [
       "<torch._C.Generator at 0x1b25200cf10>"
      ]
     },
     "execution_count": 6,
     "metadata": {},
     "output_type": "execute_result"
    }
   ],
   "source": [
    "torch.manual_seed(42)"
   ]
  },
  {
   "cell_type": "code",
   "execution_count": 7,
   "id": "197f909b-e3c3-4598-a8ee-fc311fdd0395",
   "metadata": {},
   "outputs": [],
   "source": [
    "batch_size = 32\n",
    "data_loader = DataLoader(custom_dataset, batch_size=batch_size, shuffle=True, num_workers=4)"
   ]
  },
  {
   "cell_type": "code",
   "execution_count": 11,
   "id": "c4065ffc-1231-4ceb-9407-cd10bd66da3b",
   "metadata": {},
   "outputs": [],
   "source": [
    "model2 = Sequential()\n",
    "\n",
    "model2.add(Conv2D(64, (10, 10), activation='relu', input_shape=(640, 480, 3)))\n",
    "model2.add(MaxPooling2D((10, 10)))\n",
    "model2.add(Dropout(.2))\n",
    "model2.add(Conv2D(128, (10, 10), activation='relu'))\n",
    "model2.add(BatchNormalization())\n",
    "model2.add(MaxPooling2D((5, 5)))\n",
    "model2.add(Dropout(.2))\n",
    "model2.add(Conv2D(256, (5, 5), activation='relu'))\n",
    "model2.add(Conv2D(512, (2, 2), activation='relu'))\n",
    "model2.add(BatchNormalization())\n",
    "model2.add(MaxPooling2D((2, 2)))\n",
    "model2.add(Dropout(.1))\n",
    "model2.add(Reshape((1024, 1)))\n",
    "model2.add(LSTM(1024))\n",
    "model2.add(Flatten())\n",
    "model2.add(Dense(1024, activation='relu'))\n",
    "model2.add(Dropout(.1))\n",
    "model2.add(Dense(4, activation='softmax'))"
   ]
  },
  {
   "cell_type": "code",
   "execution_count": 12,
   "id": "2b724749-e794-4f4d-bb5d-4a08c30df106",
   "metadata": {},
   "outputs": [],
   "source": [
    "model2.compile(optimizer='adam',\n",
    "              loss='categorical_crossentropy',\n",
    "              metrics=['accuracy'])"
   ]
  },
  {
   "cell_type": "code",
   "execution_count": 13,
   "id": "0ac7755c-6463-4634-83fc-d80ca4a9a5f6",
   "metadata": {},
   "outputs": [
    {
     "name": "stdout",
     "output_type": "stream",
     "text": [
      "Model: \"sequential_1\"\n",
      "_________________________________________________________________\n",
      " Layer (type)                Output Shape              Param #   \n",
      "=================================================================\n",
      " conv2d_4 (Conv2D)           (None, 631, 471, 64)      19264     \n",
      "                                                                 \n",
      " max_pooling2d_3 (MaxPoolin  (None, 63, 47, 64)        0         \n",
      " g2D)                                                            \n",
      "                                                                 \n",
      " dropout_4 (Dropout)         (None, 63, 47, 64)        0         \n",
      "                                                                 \n",
      " conv2d_5 (Conv2D)           (None, 54, 38, 128)       819328    \n",
      "                                                                 \n",
      " batch_normalization_2 (Bat  (None, 54, 38, 128)       512       \n",
      " chNormalization)                                                \n",
      "                                                                 \n",
      " max_pooling2d_4 (MaxPoolin  (None, 10, 7, 128)        0         \n",
      " g2D)                                                            \n",
      "                                                                 \n",
      " dropout_5 (Dropout)         (None, 10, 7, 128)        0         \n",
      "                                                                 \n",
      " conv2d_6 (Conv2D)           (None, 6, 3, 256)         819456    \n",
      "                                                                 \n",
      " conv2d_7 (Conv2D)           (None, 5, 2, 512)         524800    \n",
      "                                                                 \n",
      " batch_normalization_3 (Bat  (None, 5, 2, 512)         2048      \n",
      " chNormalization)                                                \n",
      "                                                                 \n",
      " max_pooling2d_5 (MaxPoolin  (None, 2, 1, 512)         0         \n",
      " g2D)                                                            \n",
      "                                                                 \n",
      " dropout_6 (Dropout)         (None, 2, 1, 512)         0         \n",
      "                                                                 \n",
      " reshape_1 (Reshape)         (None, 1024, 1)           0         \n",
      "                                                                 \n",
      " lstm_1 (LSTM)               (None, 1024)              4202496   \n",
      "                                                                 \n",
      " flatten_1 (Flatten)         (None, 1024)              0         \n",
      "                                                                 \n",
      " dense_2 (Dense)             (None, 1024)              1049600   \n",
      "                                                                 \n",
      " dropout_7 (Dropout)         (None, 1024)              0         \n",
      "                                                                 \n",
      " dense_3 (Dense)             (None, 4)                 4100      \n",
      "                                                                 \n",
      "=================================================================\n",
      "Total params: 7441604 (28.39 MB)\n",
      "Trainable params: 7440324 (28.38 MB)\n",
      "Non-trainable params: 1280 (5.00 KB)\n",
      "_________________________________________________________________\n"
     ]
    }
   ],
   "source": [
    "model2.summary()"
   ]
  },
  {
   "cell_type": "code",
   "execution_count": 14,
   "id": "6113cdef-f400-4242-9a14-ab8e5a22be27",
   "metadata": {},
   "outputs": [
    {
     "name": "stdout",
     "output_type": "stream",
     "text": [
      "Found 169 images belonging to 4 classes.\n",
      "Found 114 images belonging to 4 classes.\n",
      "Found 72 images belonging to 4 classes.\n"
     ]
    }
   ],
   "source": [
    "train_datagen = ImageDataGenerator(\n",
    "    # rescale=1./255,\n",
    ")\n",
    "test_datagen = ImageDataGenerator()\n",
    "train_generator = train_datagen.flow_from_directory(\n",
    "    './data/Train-Test Set/Training',\n",
    "    target_size=(640, 480),\n",
    "    batch_size=8,\n",
    "    class_mode='categorical'\n",
    ")\n",
    "\n",
    "validation_generator = test_datagen.flow_from_directory(\n",
    "    './data/Train-Test Set/Validation',\n",
    "    target_size=(640, 480),\n",
    "    batch_size=8,\n",
    "    class_mode='categorical'\n",
    ")\n",
    "\n",
    "test_generator = test_datagen.flow_from_directory(\n",
    "    './data/Train-Test Set/Testing',\n",
    "    target_size=(640, 480),\n",
    "    batch_size=8,\n",
    "    class_mode='categorical'\n",
    ")"
   ]
  },
  {
   "cell_type": "code",
   "execution_count": 15,
   "id": "e1da3681-0c7f-42b6-8437-9a0ce3b37fe9",
   "metadata": {},
   "outputs": [
    {
     "name": "stderr",
     "output_type": "stream",
     "text": [
      "C:\\Users\\user\\AppData\\Local\\Temp\\ipykernel_10156\\1707472198.py:1: UserWarning: `Model.fit_generator` is deprecated and will be removed in a future version. Please use `Model.fit`, which supports generators.\n",
      "  model2.fit_generator(\n"
     ]
    },
    {
     "name": "stdout",
     "output_type": "stream",
     "text": [
      "Epoch 1/10\n",
      "22/22 [==============================] - 346s 16s/step - loss: 1.3925 - accuracy: 0.3373 - val_loss: 2.3865 - val_accuracy: 0.3947\n",
      "Epoch 2/10\n",
      "22/22 [==============================] - 345s 16s/step - loss: 1.2964 - accuracy: 0.3964 - val_loss: 1.9934 - val_accuracy: 0.2807\n",
      "Epoch 3/10\n",
      "22/22 [==============================] - 356s 16s/step - loss: 2.0097 - accuracy: 0.3136 - val_loss: 1.6162 - val_accuracy: 0.2632\n",
      "Epoch 4/10\n",
      "22/22 [==============================] - 360s 16s/step - loss: 2.2637 - accuracy: 0.3550 - val_loss: 1.9255 - val_accuracy: 0.2456\n",
      "Epoch 5/10\n",
      "22/22 [==============================] - 367s 17s/step - loss: 2.1337 - accuracy: 0.2840 - val_loss: 1.4881 - val_accuracy: 0.3158\n",
      "Epoch 6/10\n",
      "22/22 [==============================] - 369s 17s/step - loss: 1.7686 - accuracy: 0.3018 - val_loss: 1.6306 - val_accuracy: 0.3947\n",
      "Epoch 7/10\n",
      "22/22 [==============================] - 372s 17s/step - loss: 1.6728 - accuracy: 0.3314 - val_loss: 1.5712 - val_accuracy: 0.3947\n",
      "Epoch 8/10\n",
      "22/22 [==============================] - 384s 17s/step - loss: 1.5296 - accuracy: 0.3432 - val_loss: 1.3888 - val_accuracy: 0.3947\n",
      "Epoch 9/10\n",
      "22/22 [==============================] - 378s 17s/step - loss: 1.5237 - accuracy: 0.2663 - val_loss: 1.6051 - val_accuracy: 0.2807\n",
      "Epoch 10/10\n",
      "22/22 [==============================] - 386s 18s/step - loss: 1.4437 - accuracy: 0.3728 - val_loss: 1.3535 - val_accuracy: 0.3947\n"
     ]
    },
    {
     "data": {
      "text/plain": [
       "<keras.src.callbacks.History at 0x1b2000ab590>"
      ]
     },
     "execution_count": 15,
     "metadata": {},
     "output_type": "execute_result"
    }
   ],
   "source": [
    "model2.fit_generator(\n",
    "    train_generator,\n",
    "    steps_per_epoch=len(train_generator),\n",
    "    epochs=10,\n",
    "    validation_data=validation_generator,\n",
    "    validation_steps=len(validation_generator)\n",
    ")"
   ]
  },
  {
   "cell_type": "code",
   "execution_count": 16,
   "id": "02fff37f-539f-46b7-9810-6059cb1dc466",
   "metadata": {},
   "outputs": [
    {
     "name": "stderr",
     "output_type": "stream",
     "text": [
      "C:\\Users\\user\\AppData\\Local\\Programs\\Python\\Python311\\Lib\\site-packages\\keras\\src\\engine\\training.py:3079: UserWarning: You are saving your model as an HDF5 file via `model.save()`. This file format is considered legacy. We recommend using instead the native Keras format, e.g. `model.save('my_model.keras')`.\n",
      "  saving_api.save_model(\n"
     ]
    }
   ],
   "source": [
    "model2.save('cnn_lstm_3947.h5')"
   ]
  },
  {
   "cell_type": "code",
   "execution_count": 18,
   "id": "4c5dc49c-ea89-40c1-8b2d-36341242d802",
   "metadata": {},
   "outputs": [
    {
     "name": "stderr",
     "output_type": "stream",
     "text": [
      "C:\\Users\\user\\AppData\\Local\\Temp\\ipykernel_10156\\1749941455.py:4: UserWarning: `Model.predict_generator` is deprecated and will be removed in a future version. Please use `Model.predict`, which supports generators.\n",
      "  predictions = model2.predict_generator(test_generator)\n"
     ]
    },
    {
     "name": "stdout",
     "output_type": "stream",
     "text": [
      "[0 0 0 0 0 0 0 0 0 0 0 0 0 0 0 0 0 0 0 0 1 1 1 1 1 1 1 1 1 1 1 1 1 1 1 1 1\n",
      " 1 1 1 1 1 1 1 1 1 1 1 2 2 2 2 2 2 2 2 2 2 2 3 3 3 3 3 3 3 3 3 3 3 3 3]\n"
     ]
    }
   ],
   "source": [
    "from sklearn.metrics import confusion_matrix\n",
    "import itertools\n",
    "\n",
    "predictions = model2.predict_generator(test_generator)\n",
    "y_pred = np.round(predictions).astype(int).flatten()  # Convert probabilities to class labels\n",
    "# print(y_true, y_pred)\n",
    "y_true = test_generator.classes\n",
    "print(y_true)\n",
    "# cm = confusion_matrix(y_true, y_pred)\n",
    "\n",
    "# def plot_confusion_matrix(cm, classes,\n",
    "#                           normalize=False,\n",
    "#                           title='Confusion matrix',\n",
    "#                           cmap=plt.cm.Blues):\n",
    "#     plt.imshow(cm, interpolation='nearest', cmap=cmap)\n",
    "#     plt.title(title)\n",
    "#     plt.colorbar()\n",
    "#     tick_marks = np.arange(len(classes))\n",
    "#     plt.xticks(tick_marks, classes, rotation=45)\n",
    "#     plt.yticks(tick_marks, classes)\n",
    "\n",
    "#     if normalize:\n",
    "#         cm = cm.astype('float') / cm.sum(axis=1)[:, np.newaxis]\n",
    "#         print(\"Normalized confusion matrix\")\n",
    "#     else:\n",
    "#         print('Confusion matrix, without normalization')\n",
    "\n",
    "#     print(cm)\n",
    "\n",
    "#     thresh = cm.max() / 2.\n",
    "#     for i, j in itertools.product(range(cm.shape[0]), range(cm.shape[1])):\n",
    "#         plt.text(j, i, cm[i, j],\n",
    "#                  horizontalalignment=\"center\",\n",
    "#                  color=\"white\" if cm[i, j] > thresh else \"black\")\n",
    "\n",
    "#     plt.tight_layout()\n",
    "#     plt.ylabel('True label')\n",
    "#     plt.xlabel('Predicted label')\n",
    "\n",
    "# plot_confusion_matrix(cm, classes=validation_generator.class_indices.keys())\n",
    "\n",
    "# plt.show()"
   ]
  },
  {
   "cell_type": "code",
   "execution_count": null,
   "id": "870e0a42-ed9b-4af3-949a-a7ad54f17f02",
   "metadata": {},
   "outputs": [],
   "source": []
  }
 ],
 "metadata": {
  "kernelspec": {
   "display_name": "Python 3 (ipykernel)",
   "language": "python",
   "name": "python3"
  },
  "language_info": {
   "codemirror_mode": {
    "name": "ipython",
    "version": 3
   },
   "file_extension": ".py",
   "mimetype": "text/x-python",
   "name": "python",
   "nbconvert_exporter": "python",
   "pygments_lexer": "ipython3",
   "version": "3.11.5"
  }
 },
 "nbformat": 4,
 "nbformat_minor": 5
}
