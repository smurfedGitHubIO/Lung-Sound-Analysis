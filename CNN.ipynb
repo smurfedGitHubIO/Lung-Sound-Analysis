{
 "cells": [
  {
   "cell_type": "code",
   "execution_count": 9,
   "id": "1a0d2a69-fa67-4e21-95ca-f4cf6b0aa58c",
   "metadata": {},
   "outputs": [],
   "source": [
    "import matplotlib.pyplot as plt\n",
    "import numpy as np\n",
    "import os\n",
    "import librosa\n",
    "import torch\n",
    "import torch.nn as nn\n",
    "import torch.optim as optim\n",
    "from torchvision import transforms\n",
    "from torchvision.datasets import ImageFolder\n",
    "import tensorflow as tf\n",
    "from tensorflow.keras.preprocessing.image import ImageDataGenerator\n",
    "from tensorflow.keras.models import Sequential\n",
    "from tensorflow.keras.layers import Conv2D, MaxPooling2D, Flatten, Dense, BatchNormalization, Dropout, Reshape, LSTM\n",
    "from torch.utils.data import DataLoader\n",
    "from sklearn.model_selection import KFold"
   ]
  },
  {
   "cell_type": "code",
   "execution_count": 10,
   "id": "8c02dd81-5123-47c7-894d-6a78200d1117",
   "metadata": {},
   "outputs": [],
   "source": [
    "# class CNN(nn.Module):\n",
    "#     def __init__(self):\n",
    "#         super(CNN, self).__init__()\n",
    "\n",
    "#         self.conv1 = nn.Conv2d(3, 64, kernel_size=3, stride=1)\n",
    "#         self.conv2 = nn.Conv2d(64, 128, kernel_size=3, stride=1)\n",
    "#         self.conv3 = nn.Conv2d(128, 256, kernel_size=3, stride=1)\n",
    "#         self.conv4 = nn.Conv2d(256, 512, kernel_size=3, stride=1)\n",
    "\n",
    "#         self.maxpool = nn.MaxPool2d(kernel_size=2, stride=2)\n",
    "\n",
    "#         self.batchnorm1 = nn.BatchNorm2d(128)\n",
    "#         self.batchnorm2 = nn.BatchNorm2d(512)\n",
    "\n",
    "#         self.dropout = nn.Dropout2d(p=0.5)\n",
    "\n",
    "#         self.fc4 = nn.Linear(512, 2)\n",
    "\n",
    "#     def forward(self, x):\n",
    "#         x = self.conv1(x)\n",
    "#         x = nn.functional.relu(x)\n",
    "#         x = self.maxpool(x)\n",
    "#         x = self.dropout(x)\n",
    "\n",
    "#         x = self.conv2(x)\n",
    "#         x = nn.functional.relu(x)\n",
    "#         x = self.batchnorm1(x)\n",
    "#         x = self.maxpool(x)\n",
    "#         x = self.dropout(x)\n",
    "\n",
    "#         x = self.conv3(x)\n",
    "#         x = nn.functional.relu(x)\n",
    "#         x = self.conv4(x)\n",
    "#         x = nn.functional.relu(x)\n",
    "#         x = self.batchnorm2(x)\n",
    "#         x = self.maxpool(x)\n",
    "#         x = self.dropout(x)\n",
    "\n",
    "#         return x"
   ]
  },
  {
   "cell_type": "code",
   "execution_count": 11,
   "id": "f7ab8531-3c06-40eb-a46c-c8399c788069",
   "metadata": {},
   "outputs": [],
   "source": [
    "data_directory = './data/Train-Test Set'\n",
    "\n",
    "transform = transforms.Compose([\n",
    "    transforms.Resize((640, 480)),\n",
    "    transforms.ToTensor(),\n",
    "])\n",
    "\n",
    "custom_dataset = ImageFolder(root=data_directory, transform=transform)"
   ]
  },
  {
   "cell_type": "code",
   "execution_count": 12,
   "id": "2974f8aa-d875-4e2b-a8b8-e65e823d5c53",
   "metadata": {},
   "outputs": [
    {
     "data": {
      "text/plain": [
       "<torch._C.Generator at 0x21b0d3ccf10>"
      ]
     },
     "execution_count": 12,
     "metadata": {},
     "output_type": "execute_result"
    }
   ],
   "source": [
    "torch.manual_seed(42)"
   ]
  },
  {
   "cell_type": "code",
   "execution_count": 13,
   "id": "197f909b-e3c3-4598-a8ee-fc311fdd0395",
   "metadata": {},
   "outputs": [],
   "source": [
    "batch_size = 32\n",
    "data_loader = DataLoader(custom_dataset, batch_size=batch_size, shuffle=True, num_workers=4)"
   ]
  },
  {
   "cell_type": "code",
   "execution_count": 62,
   "id": "c4065ffc-1231-4ceb-9407-cd10bd66da3b",
   "metadata": {},
   "outputs": [],
   "source": [
    "model2 = Sequential()\n",
    "\n",
    "model2.add(Conv2D(64, (10, 10), activation='relu', input_shape=(640, 480, 3)))\n",
    "model2.add(MaxPooling2D((10, 10)))\n",
    "model2.add(Dropout(.2))\n",
    "model2.add(Conv2D(128, (10, 10), activation='relu'))\n",
    "model2.add(BatchNormalization())\n",
    "model2.add(MaxPooling2D((5, 5)))\n",
    "model2.add(Dropout(.2))\n",
    "model2.add(Conv2D(256, (5, 5), activation='relu'))\n",
    "model2.add(Conv2D(512, (2, 2), activation='relu'))\n",
    "model2.add(BatchNormalization())\n",
    "model2.add(MaxPooling2D((2, 2)))\n",
    "model2.add(Dropout(.1))\n",
    "model2.add(Reshape((1024, 1)))\n",
    "model2.add(LSTM(1024))\n",
    "model2.add(Flatten())\n",
    "model2.add(Dense(1024, activation='relu'))\n",
    "model2.add(Dropout(.1))\n",
    "model2.add(Dense(1, activation='sigmoid'))"
   ]
  },
  {
   "cell_type": "code",
   "execution_count": 63,
   "id": "2b724749-e794-4f4d-bb5d-4a08c30df106",
   "metadata": {},
   "outputs": [],
   "source": [
    "model2.compile(optimizer='adam',\n",
    "              loss='binary_crossentropy',\n",
    "              metrics=['accuracy'])"
   ]
  },
  {
   "cell_type": "code",
   "execution_count": 64,
   "id": "0ac7755c-6463-4634-83fc-d80ca4a9a5f6",
   "metadata": {},
   "outputs": [
    {
     "name": "stdout",
     "output_type": "stream",
     "text": [
      "Model: \"sequential_26\"\n",
      "_________________________________________________________________\n",
      " Layer (type)                Output Shape              Param #   \n",
      "=================================================================\n",
      " conv2d_89 (Conv2D)          (None, 631, 471, 64)      19264     \n",
      "                                                                 \n",
      " max_pooling2d_67 (MaxPooli  (None, 63, 47, 64)        0         \n",
      " ng2D)                                                           \n",
      "                                                                 \n",
      " dropout_67 (Dropout)        (None, 63, 47, 64)        0         \n",
      "                                                                 \n",
      " conv2d_90 (Conv2D)          (None, 54, 38, 128)       819328    \n",
      "                                                                 \n",
      " batch_normalization_41 (Ba  (None, 54, 38, 128)       512       \n",
      " tchNormalization)                                               \n",
      "                                                                 \n",
      " max_pooling2d_68 (MaxPooli  (None, 10, 7, 128)        0         \n",
      " ng2D)                                                           \n",
      "                                                                 \n",
      " dropout_68 (Dropout)        (None, 10, 7, 128)        0         \n",
      "                                                                 \n",
      " conv2d_91 (Conv2D)          (None, 6, 3, 256)         819456    \n",
      "                                                                 \n",
      " conv2d_92 (Conv2D)          (None, 5, 2, 512)         524800    \n",
      "                                                                 \n",
      " batch_normalization_42 (Ba  (None, 5, 2, 512)         2048      \n",
      " tchNormalization)                                               \n",
      "                                                                 \n",
      " max_pooling2d_69 (MaxPooli  (None, 2, 1, 512)         0         \n",
      " ng2D)                                                           \n",
      "                                                                 \n",
      " dropout_69 (Dropout)        (None, 2, 1, 512)         0         \n",
      "                                                                 \n",
      " reshape_14 (Reshape)        (None, 1024, 1)           0         \n",
      "                                                                 \n",
      " lstm_8 (LSTM)               (None, 1024)              4202496   \n",
      "                                                                 \n",
      " flatten_6 (Flatten)         (None, 1024)              0         \n",
      "                                                                 \n",
      " dense_12 (Dense)            (None, 1024)              1049600   \n",
      "                                                                 \n",
      " dropout_70 (Dropout)        (None, 1024)              0         \n",
      "                                                                 \n",
      " dense_13 (Dense)            (None, 1)                 1025      \n",
      "                                                                 \n",
      "=================================================================\n",
      "Total params: 7438529 (28.38 MB)\n",
      "Trainable params: 7437249 (28.37 MB)\n",
      "Non-trainable params: 1280 (5.00 KB)\n",
      "_________________________________________________________________\n"
     ]
    }
   ],
   "source": [
    "model2.summary()"
   ]
  },
  {
   "cell_type": "code",
   "execution_count": 65,
   "id": "6113cdef-f400-4242-9a14-ab8e5a22be27",
   "metadata": {},
   "outputs": [
    {
     "name": "stdout",
     "output_type": "stream",
     "text": [
      "Found 115 images belonging to 2 classes.\n",
      "Found 77 images belonging to 2 classes.\n",
      "Found 48 images belonging to 2 classes.\n"
     ]
    }
   ],
   "source": [
    "train_datagen = ImageDataGenerator(\n",
    "    # rescale=1./255,\n",
    ")\n",
    "test_datagen = ImageDataGenerator()\n",
    "train_generator = train_datagen.flow_from_directory(\n",
    "    './data/Train-Test Set/Training',\n",
    "    target_size=(640, 480),\n",
    "    batch_size=8,\n",
    "    class_mode='binary'\n",
    ")\n",
    "\n",
    "validation_generator = test_datagen.flow_from_directory(\n",
    "    './data/Train-Test Set/Validation',\n",
    "    target_size=(640, 480),\n",
    "    batch_size=8,\n",
    "    class_mode='binary'\n",
    ")\n",
    "\n",
    "test_generator = test_datagen.flow_from_directory(\n",
    "    './data/Train-Test Set/Testing',\n",
    "    target_size=(640, 480),\n",
    "    batch_size=8,\n",
    "    class_mode='binary'\n",
    ")"
   ]
  },
  {
   "cell_type": "code",
   "execution_count": 66,
   "id": "e1da3681-0c7f-42b6-8437-9a0ce3b37fe9",
   "metadata": {},
   "outputs": [
    {
     "name": "stdout",
     "output_type": "stream",
     "text": [
      "Epoch 1/10\n"
     ]
    },
    {
     "name": "stderr",
     "output_type": "stream",
     "text": [
      "C:\\Users\\user\\AppData\\Local\\Temp\\ipykernel_19000\\1707472198.py:1: UserWarning: `Model.fit_generator` is deprecated and will be removed in a future version. Please use `Model.fit`, which supports generators.\n",
      "  model2.fit_generator(\n"
     ]
    },
    {
     "name": "stdout",
     "output_type": "stream",
     "text": [
      "15/15 [==============================] - 297s 20s/step - loss: 0.7001 - accuracy: 0.5478 - val_loss: 0.7995 - val_accuracy: 0.4156\n",
      "Epoch 2/10\n",
      "15/15 [==============================] - 293s 20s/step - loss: 0.6961 - accuracy: 0.5217 - val_loss: 0.6926 - val_accuracy: 0.5844\n",
      "Epoch 3/10\n",
      "15/15 [==============================] - 300s 20s/step - loss: 0.6832 - accuracy: 0.5826 - val_loss: 0.6884 - val_accuracy: 0.5844\n",
      "Epoch 4/10\n",
      "15/15 [==============================] - 295s 20s/step - loss: 0.6745 - accuracy: 0.5826 - val_loss: 0.6954 - val_accuracy: 0.5844\n",
      "Epoch 5/10\n",
      "15/15 [==============================] - 304s 20s/step - loss: 0.6713 - accuracy: 0.5826 - val_loss: 0.6766 - val_accuracy: 0.5844\n",
      "Epoch 6/10\n",
      "15/15 [==============================] - 298s 21s/step - loss: 0.6831 - accuracy: 0.5826 - val_loss: 0.6799 - val_accuracy: 0.5844\n",
      "Epoch 7/10\n",
      "15/15 [==============================] - 303s 20s/step - loss: 0.6832 - accuracy: 0.5826 - val_loss: 0.6774 - val_accuracy: 0.5844\n",
      "Epoch 8/10\n",
      "15/15 [==============================] - 296s 20s/step - loss: 0.6845 - accuracy: 0.5826 - val_loss: 0.6728 - val_accuracy: 0.5844\n",
      "Epoch 9/10\n",
      "15/15 [==============================] - 308s 20s/step - loss: 0.6745 - accuracy: 0.5826 - val_loss: 0.6681 - val_accuracy: 0.5844\n",
      "Epoch 10/10\n",
      "15/15 [==============================] - 299s 20s/step - loss: 0.6485 - accuracy: 0.5826 - val_loss: 0.6639 - val_accuracy: 0.5844\n"
     ]
    },
    {
     "data": {
      "text/plain": [
       "<keras.src.callbacks.History at 0x21b41ca8d90>"
      ]
     },
     "execution_count": 66,
     "metadata": {},
     "output_type": "execute_result"
    }
   ],
   "source": [
    "model2.fit_generator(\n",
    "    train_generator,\n",
    "    steps_per_epoch=len(train_generator),\n",
    "    epochs=10,\n",
    "    validation_data=validation_generator,\n",
    "    validation_steps=len(validation_generator)\n",
    ")"
   ]
  },
  {
   "cell_type": "code",
   "execution_count": 11,
   "id": "02fff37f-539f-46b7-9810-6059cb1dc466",
   "metadata": {},
   "outputs": [
    {
     "name": "stderr",
     "output_type": "stream",
     "text": [
      "C:\\Users\\user\\AppData\\Local\\Programs\\Python\\Python311\\Lib\\site-packages\\keras\\src\\engine\\training.py:3079: UserWarning: You are saving your model as an HDF5 file via `model.save()`. This file format is considered legacy. We recommend using instead the native Keras format, e.g. `model.save('my_model.keras')`.\n",
      "  saving_api.save_model(\n"
     ]
    }
   ],
   "source": [
    "model2.save('cnn_only_5714.h5')"
   ]
  },
  {
   "cell_type": "code",
   "execution_count": 12,
   "id": "4c5dc49c-ea89-40c1-8b2d-36341242d802",
   "metadata": {},
   "outputs": [
    {
     "name": "stderr",
     "output_type": "stream",
     "text": [
      "C:\\Users\\user\\AppData\\Local\\Temp\\ipykernel_9084\\2867862681.py:4: UserWarning: `Model.predict_generator` is deprecated and will be removed in a future version. Please use `Model.predict`, which supports generators.\n",
      "  predictions = model2.predict_generator(test_generator)\n"
     ]
    },
    {
     "name": "stdout",
     "output_type": "stream",
     "text": [
      "Confusion matrix, without normalization\n",
      "[[17  3]\n",
      " [20  8]]\n"
     ]
    },
    {
     "data": {
      "image/png": "[encoded data removed]",
      "text/plain": [
       "<Figure size 640x480 with 2 Axes>"
      ]
     },
     "metadata": {},
     "output_type": "display_data"
    }
   ],
   "source": [
    "from sklearn.metrics import confusion_matrix\n",
    "import itertools\n",
    "\n",
    "predictions = model2.predict_generator(test_generator)\n",
    "y_pred = np.round(predictions).astype(int).flatten()  # Convert probabilities to class labels\n",
    "# print(y_true, y_pred)\n",
    "y_true = test_generator.classes\n",
    "cm = confusion_matrix(y_true, y_pred)\n",
    "\n",
    "def plot_confusion_matrix(cm, classes,\n",
    "                          normalize=False,\n",
    "                          title='Confusion matrix',\n",
    "                          cmap=plt.cm.Blues):\n",
    "    plt.imshow(cm, interpolation='nearest', cmap=cmap)\n",
    "    plt.title(title)\n",
    "    plt.colorbar()\n",
    "    tick_marks = np.arange(len(classes))\n",
    "    plt.xticks(tick_marks, classes, rotation=45)\n",
    "    plt.yticks(tick_marks, classes)\n",
    "\n",
    "    if normalize:\n",
    "        cm = cm.astype('float') / cm.sum(axis=1)[:, np.newaxis]\n",
    "        print(\"Normalized confusion matrix\")\n",
    "    else:\n",
    "        print('Confusion matrix, without normalization')\n",
    "\n",
    "    print(cm)\n",
    "\n",
    "    thresh = cm.max() / 2.\n",
    "    for i, j in itertools.product(range(cm.shape[0]), range(cm.shape[1])):\n",
    "        plt.text(j, i, cm[i, j],\n",
    "                 horizontalalignment=\"center\",\n",
    "                 color=\"white\" if cm[i, j] > thresh else \"black\")\n",
    "\n",
    "    plt.tight_layout()\n",
    "    plt.ylabel('True label')\n",
    "    plt.xlabel('Predicted label')\n",
    "\n",
    "plot_confusion_matrix(cm, classes=validation_generator.class_indices.keys())\n",
    "\n",
    "plt.show()"
   ]
  },
  {
   "cell_type": "code",
   "execution_count": null,
   "id": "870e0a42-ed9b-4af3-949a-a7ad54f17f02",
   "metadata": {},
   "outputs": [],
   "source": []
  }
 ],
 "metadata": {
  "kernelspec": {
   "display_name": "Python 3 (ipykernel)",
   "language": "python",
   "name": "python3"
  },
  "language_info": {
   "codemirror_mode": {
    "name": "ipython",
    "version": 3
   },
   "file_extension": ".py",
   "mimetype": "text/x-python",
   "name": "python",
   "nbconvert_exporter": "python",
   "pygments_lexer": "ipython3",
   "version": "3.11.5"
  }
 },
 "nbformat": 4,
 "nbformat_minor": 5
}
