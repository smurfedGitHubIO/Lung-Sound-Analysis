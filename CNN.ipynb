{
 "cells": [
  {
   "cell_type": "code",
   "execution_count": 1,
   "id": "1a0d2a69-fa67-4e21-95ca-f4cf6b0aa58c",
   "metadata": {},
   "outputs": [],
   "source": [
    "import matplotlib.pyplot as plt\n",
    "import numpy as np\n",
    "import os\n",
    "import librosa\n",
    "import torch\n",
    "import torch.nn as nn\n",
    "import torch.optim as optim\n",
    "from torchvision import transforms\n",
    "from torchvision.datasets import ImageFolder\n",
    "import tensorflow as tf\n",
    "from tensorflow.keras.preprocessing.image import ImageDataGenerator\n",
    "from tensorflow.keras.models import Sequential\n",
    "from tensorflow.keras.layers import Conv2D, MaxPooling2D, Flatten, Dense, BatchNormalization, Dropout, Reshape, LSTM\n",
    "from torch.utils.data import DataLoader\n",
    "from sklearn.model_selection import KFold"
   ]
  },
  {
   "cell_type": "code",
   "execution_count": 2,
   "id": "f7ab8531-3c06-40eb-a46c-c8399c788069",
   "metadata": {},
   "outputs": [],
   "source": [
    "data_directory = './data/Train-Test Set 2'\n",
    "\n",
    "transform = transforms.Compose([\n",
    "    transforms.Resize((640, 480)),\n",
    "    # transforms.ToTensor(),\n",
    "    # transforms.Resize(256),\n",
    "    # transforms.CenterCrop(224),\n",
    "    transforms.ToTensor(),\n",
    "    # transforms.Normalize([0.485, 0.456, 0.406], [0.229, 0.224, 0.225])\n",
    "])\n",
    "\n",
    "custom_dataset = ImageFolder(root=data_directory, transform=transform)"
   ]
  },
  {
   "cell_type": "code",
   "execution_count": 3,
   "id": "2974f8aa-d875-4e2b-a8b8-e65e823d5c53",
   "metadata": {},
   "outputs": [
    {
     "data": {
      "text/plain": [
       "<torch._C.Generator at 0x27b83fccf30>"
      ]
     },
     "execution_count": 3,
     "metadata": {},
     "output_type": "execute_result"
    }
   ],
   "source": [
    "torch.manual_seed(42)"
   ]
  },
  {
   "cell_type": "code",
   "execution_count": 4,
   "id": "197f909b-e3c3-4598-a8ee-fc311fdd0395",
   "metadata": {},
   "outputs": [],
   "source": [
    "batch_size = 16\n",
    "data_loader = DataLoader(custom_dataset, batch_size=batch_size, shuffle=True, num_workers=4)"
   ]
  },
  {
   "cell_type": "code",
   "execution_count": 5,
   "id": "c4065ffc-1231-4ceb-9407-cd10bd66da3b",
   "metadata": {},
   "outputs": [],
   "source": [
    "model2 = Sequential()\n",
    "\n",
    "model2.add(Conv2D(16, (3, 3), activation='relu', input_shape=(640, 480, 3)))\n",
    "model2.add(MaxPooling2D((2, 2)))\n",
    "model2.add(Conv2D(32, (3, 3), activation='relu'))\n",
    "model2.add(BatchNormalization())\n",
    "model2.add(MaxPooling2D((2, 2)))\n",
    "model2.add(Conv2D(64, (3, 3), activation='relu'))\n",
    "model2.add(BatchNormalization())\n",
    "model2.add(MaxPooling2D((2, 2)))\n",
    "model2.add(Dropout(0.2))\n",
    "model2.add(Conv2D(128, (3, 3), activation='relu'))\n",
    "model2.add(BatchNormalization())\n",
    "model2.add(MaxPooling2D((2, 2)))\n",
    "model2.add(Dropout(0.2))\n",
    "model2.add(Flatten())\n",
    "model2.add(Dense(512, activation='relu'))\n",
    "model2.add(Dropout(.7))\n",
    "model2.add(Dense(256, activation='relu'))\n",
    "model2.add(Dropout(.5))\n",
    "model2.add(Dense(128, activation='relu'))\n",
    "model2.add(Dropout(.3))\n",
    "model2.add(Dense(4, activation='softmax'))"
   ]
  },
  {
   "cell_type": "code",
   "execution_count": 6,
   "id": "2b724749-e794-4f4d-bb5d-4a08c30df106",
   "metadata": {},
   "outputs": [],
   "source": [
    "model2.compile(optimizer='adam',\n",
    "              loss='sparse_categorical_crossentropy',\n",
    "              metrics=['accuracy'])"
   ]
  },
  {
   "cell_type": "code",
   "execution_count": 7,
   "id": "0ac7755c-6463-4634-83fc-d80ca4a9a5f6",
   "metadata": {},
   "outputs": [
    {
     "name": "stdout",
     "output_type": "stream",
     "text": [
      "Model: \"sequential\"\n",
      "_________________________________________________________________\n",
      " Layer (type)                Output Shape              Param #   \n",
      "=================================================================\n",
      " conv2d (Conv2D)             (None, 638, 478, 16)      448       \n",
      "                                                                 \n",
      " max_pooling2d (MaxPooling2  (None, 319, 239, 16)      0         \n",
      " D)                                                              \n",
      "                                                                 \n",
      " conv2d_1 (Conv2D)           (None, 317, 237, 32)      4640      \n",
      "                                                                 \n",
      " batch_normalization (Batch  (None, 317, 237, 32)      128       \n",
      " Normalization)                                                  \n",
      "                                                                 \n",
      " max_pooling2d_1 (MaxPoolin  (None, 158, 118, 32)      0         \n",
      " g2D)                                                            \n",
      "                                                                 \n",
      " conv2d_2 (Conv2D)           (None, 156, 116, 64)      18496     \n",
      "                                                                 \n",
      " batch_normalization_1 (Bat  (None, 156, 116, 64)      256       \n",
      " chNormalization)                                                \n",
      "                                                                 \n",
      " max_pooling2d_2 (MaxPoolin  (None, 78, 58, 64)        0         \n",
      " g2D)                                                            \n",
      "                                                                 \n",
      " dropout (Dropout)           (None, 78, 58, 64)        0         \n",
      "                                                                 \n",
      " conv2d_3 (Conv2D)           (None, 76, 56, 128)       73856     \n",
      "                                                                 \n",
      " batch_normalization_2 (Bat  (None, 76, 56, 128)       512       \n",
      " chNormalization)                                                \n",
      "                                                                 \n",
      " max_pooling2d_3 (MaxPoolin  (None, 38, 28, 128)       0         \n",
      " g2D)                                                            \n",
      "                                                                 \n",
      " dropout_1 (Dropout)         (None, 38, 28, 128)       0         \n",
      "                                                                 \n",
      " flatten (Flatten)           (None, 136192)            0         \n",
      "                                                                 \n",
      " dense (Dense)               (None, 512)               69730816  \n",
      "                                                                 \n",
      " dropout_2 (Dropout)         (None, 512)               0         \n",
      "                                                                 \n",
      " dense_1 (Dense)             (None, 256)               131328    \n",
      "                                                                 \n",
      " dropout_3 (Dropout)         (None, 256)               0         \n",
      "                                                                 \n",
      " dense_2 (Dense)             (None, 128)               32896     \n",
      "                                                                 \n",
      " dropout_4 (Dropout)         (None, 128)               0         \n",
      "                                                                 \n",
      " dense_3 (Dense)             (None, 4)                 516       \n",
      "                                                                 \n",
      "=================================================================\n",
      "Total params: 69993892 (267.01 MB)\n",
      "Trainable params: 69993444 (267.00 MB)\n",
      "Non-trainable params: 448 (1.75 KB)\n",
      "_________________________________________________________________\n"
     ]
    }
   ],
   "source": [
    "model2.summary()"
   ]
  },
  {
   "cell_type": "code",
   "execution_count": 8,
   "id": "6113cdef-f400-4242-9a14-ab8e5a22be27",
   "metadata": {},
   "outputs": [
    {
     "name": "stdout",
     "output_type": "stream",
     "text": [
      "Found 169 images belonging to 4 classes.\n",
      "Found 114 images belonging to 4 classes.\n",
      "Found 72 images belonging to 4 classes.\n"
     ]
    }
   ],
   "source": [
    "train_datagen = ImageDataGenerator()\n",
    "test_datagen = ImageDataGenerator()\n",
    "train_generator = train_datagen.flow_from_directory(\n",
    "    './data/Train-Test Set 2/Training',\n",
    "    target_size=(640, 480),\n",
    "    batch_size=batch_size,\n",
    "    class_mode='sparse'\n",
    ")\n",
    "\n",
    "validation_generator = test_datagen.flow_from_directory(\n",
    "    './data/Train-Test Set 2/Validation',\n",
    "    target_size=(640, 480),\n",
    "    batch_size=batch_size,\n",
    "    class_mode='sparse'\n",
    ")\n",
    "\n",
    "test_generator = test_datagen.flow_from_directory(\n",
    "    './data/Train-Test Set 2/Testing',\n",
    "    target_size=(640, 480),\n",
    "    batch_size=batch_size,\n",
    "    class_mode='sparse'\n",
    ")"
   ]
  },
  {
   "cell_type": "code",
   "execution_count": 9,
   "id": "e1da3681-0c7f-42b6-8437-9a0ce3b37fe9",
   "metadata": {},
   "outputs": [
    {
     "name": "stdout",
     "output_type": "stream",
     "text": [
      "Epoch 1/20\n"
     ]
    },
    {
     "name": "stderr",
     "output_type": "stream",
     "text": [
      "C:\\Users\\user\\AppData\\Local\\Temp\\ipykernel_1068\\143086181.py:1: UserWarning: `Model.fit_generator` is deprecated and will be removed in a future version. Please use `Model.fit`, which supports generators.\n",
      "  model2.fit_generator(\n"
     ]
    },
    {
     "name": "stdout",
     "output_type": "stream",
     "text": [
      "11/11 [==============================] - 21s 2s/step - loss: 72.3467 - accuracy: 0.3491 - val_loss: 50.5129 - val_accuracy: 0.3947\n",
      "Epoch 2/20\n",
      "11/11 [==============================] - 19s 2s/step - loss: 69.5403 - accuracy: 0.2663 - val_loss: 188.4312 - val_accuracy: 0.1491\n",
      "Epoch 3/20\n",
      "11/11 [==============================] - 20s 2s/step - loss: 64.0548 - accuracy: 0.3254 - val_loss: 45.2612 - val_accuracy: 0.3509\n",
      "Epoch 4/20\n",
      "11/11 [==============================] - 19s 2s/step - loss: 52.8168 - accuracy: 0.3373 - val_loss: 19.3571 - val_accuracy: 0.2018\n",
      "Epoch 5/20\n",
      "11/11 [==============================] - 20s 2s/step - loss: 44.5171 - accuracy: 0.2959 - val_loss: 38.0101 - val_accuracy: 0.3421\n",
      "Epoch 6/20\n",
      "11/11 [==============================] - 20s 2s/step - loss: 35.3040 - accuracy: 0.3609 - val_loss: 21.7348 - val_accuracy: 0.3947\n",
      "Epoch 7/20\n",
      "11/11 [==============================] - 20s 2s/step - loss: 36.9791 - accuracy: 0.2722 - val_loss: 31.5252 - val_accuracy: 0.2544\n",
      "Epoch 8/20\n",
      "11/11 [==============================] - 20s 2s/step - loss: 28.9854 - accuracy: 0.3254 - val_loss: 16.8340 - val_accuracy: 0.3684\n",
      "Epoch 9/20\n",
      "11/11 [==============================] - 20s 2s/step - loss: 21.6455 - accuracy: 0.2959 - val_loss: 5.2732 - val_accuracy: 0.3509\n",
      "Epoch 10/20\n",
      "11/11 [==============================] - 20s 2s/step - loss: 16.0249 - accuracy: 0.3787 - val_loss: 6.0041 - val_accuracy: 0.3860\n",
      "Epoch 11/20\n",
      "11/11 [==============================] - 20s 2s/step - loss: 20.1668 - accuracy: 0.2722 - val_loss: 5.0752 - val_accuracy: 0.4035\n",
      "Epoch 12/20\n",
      "11/11 [==============================] - 20s 2s/step - loss: 16.2238 - accuracy: 0.3373 - val_loss: 2.0595 - val_accuracy: 0.4211\n",
      "Epoch 13/20\n",
      "11/11 [==============================] - 20s 2s/step - loss: 10.5814 - accuracy: 0.3491 - val_loss: 1.4703 - val_accuracy: 0.3070\n",
      "Epoch 14/20\n",
      "11/11 [==============================] - 20s 2s/step - loss: 11.1743 - accuracy: 0.3077 - val_loss: 1.4502 - val_accuracy: 0.4211\n",
      "Epoch 15/20\n",
      "11/11 [==============================] - 20s 2s/step - loss: 7.3973 - accuracy: 0.2604 - val_loss: 1.5620 - val_accuracy: 0.3509\n",
      "Epoch 16/20\n",
      "11/11 [==============================] - 20s 2s/step - loss: 7.0350 - accuracy: 0.3373 - val_loss: 1.5207 - val_accuracy: 0.3070\n",
      "Epoch 17/20\n",
      "11/11 [==============================] - 20s 2s/step - loss: 3.9616 - accuracy: 0.2899 - val_loss: 1.3857 - val_accuracy: 0.3070\n",
      "Epoch 18/20\n",
      "11/11 [==============================] - 20s 2s/step - loss: 2.2538 - accuracy: 0.3669 - val_loss: 1.3891 - val_accuracy: 0.3684\n",
      "Epoch 19/20\n",
      "11/11 [==============================] - 20s 2s/step - loss: 1.5683 - accuracy: 0.3964 - val_loss: 1.3959 - val_accuracy: 0.3684\n",
      "Epoch 20/20\n",
      "11/11 [==============================] - 20s 2s/step - loss: 1.5082 - accuracy: 0.4083 - val_loss: 1.3858 - val_accuracy: 0.4035\n"
     ]
    },
    {
     "data": {
      "text/plain": [
       "<keras.src.callbacks.History at 0x27b88ec9ad0>"
      ]
     },
     "execution_count": 9,
     "metadata": {},
     "output_type": "execute_result"
    }
   ],
   "source": [
    "model2.fit_generator(\n",
    "    train_generator,\n",
    "    steps_per_epoch=len(train_generator),\n",
    "    epochs=20,\n",
    "    validation_data=validation_generator,\n",
    "    validation_steps=len(validation_generator)\n",
    ")"
   ]
  },
  {
   "cell_type": "code",
   "execution_count": 10,
   "id": "02fff37f-539f-46b7-9810-6059cb1dc466",
   "metadata": {},
   "outputs": [],
   "source": [
    "model2.save('cnn_only_267mbtrainableparams_20epochs_4035.keras')"
   ]
  },
  {
   "cell_type": "code",
   "execution_count": 18,
   "id": "4c5dc49c-ea89-40c1-8b2d-36341242d802",
   "metadata": {},
   "outputs": [
    {
     "name": "stderr",
     "output_type": "stream",
     "text": [
      "C:\\Users\\user\\AppData\\Local\\Temp\\ipykernel_10156\\1749941455.py:4: UserWarning: `Model.predict_generator` is deprecated and will be removed in a future version. Please use `Model.predict`, which supports generators.\n",
      "  predictions = model2.predict_generator(test_generator)\n"
     ]
    },
    {
     "name": "stdout",
     "output_type": "stream",
     "text": [
      "[0 0 0 0 0 0 0 0 0 0 0 0 0 0 0 0 0 0 0 0 1 1 1 1 1 1 1 1 1 1 1 1 1 1 1 1 1\n",
      " 1 1 1 1 1 1 1 1 1 1 1 2 2 2 2 2 2 2 2 2 2 2 3 3 3 3 3 3 3 3 3 3 3 3 3]\n"
     ]
    }
   ],
   "source": [
    "from sklearn.metrics import confusion_matrix\n",
    "import itertools\n",
    "\n",
    "predictions = model2.predict_generator(test_generator)\n",
    "y_pred = np.round(predictions).astype(int).flatten()  # Convert probabilities to class labels\n",
    "# print(y_true, y_pred)\n",
    "y_true = test_generator.classes\n",
    "print(y_true)\n",
    "# cm = confusion_matrix(y_true, y_pred)\n",
    "\n",
    "# def plot_confusion_matrix(cm, classes,\n",
    "#                           normalize=False,\n",
    "#                           title='Confusion matrix',\n",
    "#                           cmap=plt.cm.Blues):\n",
    "#     plt.imshow(cm, interpolation='nearest', cmap=cmap)\n",
    "#     plt.title(title)\n",
    "#     plt.colorbar()\n",
    "#     tick_marks = np.arange(len(classes))\n",
    "#     plt.xticks(tick_marks, classes, rotation=45)\n",
    "#     plt.yticks(tick_marks, classes)\n",
    "\n",
    "#     if normalize:\n",
    "#         cm = cm.astype('float') / cm.sum(axis=1)[:, np.newaxis]\n",
    "#         print(\"Normalized confusion matrix\")\n",
    "#     else:\n",
    "#         print('Confusion matrix, without normalization')\n",
    "\n",
    "#     print(cm)\n",
    "\n",
    "#     thresh = cm.max() / 2.\n",
    "#     for i, j in itertools.product(range(cm.shape[0]), range(cm.shape[1])):\n",
    "#         plt.text(j, i, cm[i, j],\n",
    "#                  horizontalalignment=\"center\",\n",
    "#                  color=\"white\" if cm[i, j] > thresh else \"black\")\n",
    "\n",
    "#     plt.tight_layout()\n",
    "#     plt.ylabel('True label')\n",
    "#     plt.xlabel('Predicted label')\n",
    "\n",
    "# plot_confusion_matrix(cm, classes=validation_generator.class_indices.keys())\n",
    "\n",
    "# plt.show()"
   ]
  },
  {
   "cell_type": "code",
   "execution_count": null,
   "id": "870e0a42-ed9b-4af3-949a-a7ad54f17f02",
   "metadata": {},
   "outputs": [],
   "source": []
  }
 ],
 "metadata": {
  "kernelspec": {
   "display_name": "Python 3 (ipykernel)",
   "language": "python",
   "name": "python3"
  },
  "language_info": {
   "codemirror_mode": {
    "name": "ipython",
    "version": 3
   },
   "file_extension": ".py",
   "mimetype": "text/x-python",
   "name": "python",
   "nbconvert_exporter": "python",
   "pygments_lexer": "ipython3",
   "version": "3.11.5"
  }
 },
 "nbformat": 4,
 "nbformat_minor": 5
}
