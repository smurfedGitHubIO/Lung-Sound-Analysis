{
 "cells": [
  {
   "cell_type": "code",
   "execution_count": 18,
   "id": "e8c4d454-7e7f-4d62-8cb5-cf840698a9c2",
   "metadata": {},
   "outputs": [],
   "source": [
    "import numpy as np\n",
    "import matplotlib.pyplot as plt"
   ]
  },
  {
   "cell_type": "code",
   "execution_count": 9,
   "id": "155ba3cc-39b5-4b14-9b9f-c39dc9446d7c",
   "metadata": {},
   "outputs": [],
   "source": [
    "import librosa.display\n",
    "import matplotlib.pyplot as plt\n",
    "\n",
    "\n",
    "def _plot_signal_and_augmented_signal(signal, augmented_signal, sr):\n",
    "    fig, ax = plt.subplots(nrows=2)\n",
    "    librosa.display.waveplot(signal, sr=sr, ax=ax[0])\n",
    "    ax[0].set(title=\"Original signal\")\n",
    "    librosa.display.waveplot(augmented_signal, sr=sr, ax=ax[1])\n",
    "    ax[1].set(title=\"Augmented signal\")\n",
    "    plt.show()"
   ]
  },
  {
   "cell_type": "code",
   "execution_count": 16,
   "id": "cd60905c-b5fd-460b-bf1a-601c4d4f2d1b",
   "metadata": {},
   "outputs": [],
   "source": [
    "def add_white_noise(signal, noise_factor):\n",
    "    noise = np.random.normal(0, signal.std(), signal.size)\n",
    "    augmented_signal = signal + noise*noise_factor\n",
    "    return augmented_signal\n",
    "\n",
    "def time_stretch(signal, stretch_rate):\n",
    "    return librosa.effects.time_stretch(signal, stretch_rate)"
   ]
  },
  {
   "cell_type": "code",
   "execution_count": 21,
   "id": "e1b4f9dc-3b15-4d61-b3c8-dc58cd9942ce",
   "metadata": {},
   "outputs": [
    {
     "name": "stdout",
     "output_type": "stream",
     "text": [
      "661500 22050\n"
     ]
    }
   ],
   "source": [
    "if __name__ == '__main__':\n",
    "    signal, sr = librosa.load('./data/Asthma/BP1_Asthma,I E W,P L L,70,M.wav')\n",
    "    print(len(signal), sr)\n",
    "    "
   ]
  },
  {
   "cell_type": "code",
   "execution_count": 34,
   "id": "538ac4af-bb59-479e-9b74-e8aace168ab7",
   "metadata": {},
   "outputs": [
    {
     "name": "stdout",
     "output_type": "stream",
     "text": [
      "desktop.ini Asthma\n"
     ]
    }
   ],
   "source": [
    "import os\n",
    "\n",
    "types = os.listdir('./data')\n",
    "for type in types:\n",
    "    # print(os.listdir(f'./data/{type}')[-1])\n",
    "    for audio_file in os.listdir(f'./data/{type}'):\n",
    "        if audio_file[-3:] != 'wav':\n",
    "            print(audio_file, type)"
   ]
  },
  {
   "cell_type": "markdown",
   "id": "09c1e065-8c96-4b65-87fc-e2ee8a94c5b0",
   "metadata": {},
   "source": [
    "`desktop.ini` found in Asthma folder."
   ]
  },
  {
   "cell_type": "code",
   "execution_count": 35,
   "id": "94c094a3-8539-459b-87e2-e664861d57a2",
   "metadata": {},
   "outputs": [],
   "source": [
    "import os\n",
    "\n",
    "types = os.listdir('./data')\n",
    "for type in types:\n",
    "    # print(os.listdir(f'./data/{type}')[-1])\n",
    "    for audio_file in os.listdir(f'./data/{type}'):\n",
    "        if audio_file[-3:] != 'wav':\n",
    "            os.remove(f'./data/{type}/{audio_file}')"
   ]
  },
  {
   "cell_type": "code",
   "execution_count": 38,
   "id": "b057e222-88fe-4a9f-90a4-a7bec4ac36fe",
   "metadata": {},
   "outputs": [],
   "source": [
    "import os\n",
    "\n",
    "types = os.listdir('./data')\n",
    "sampling_rate_dictionary = {}\n",
    "\n",
    "for type in types:\n",
    "    sampling_rate_dictionary[type] = {}\n",
    "    # print(os.listdir(f'./data/{type}')[-1])\n",
    "    for audio_file in os.listdir(f'./data/{type}'):\n",
    "        signal, sr = librosa.load(f'./data/{type}/{audio_file}')\n",
    "        if str(sr) not in sampling_rate_dictionary[type]:\n",
    "            sampling_rate_dictionary[type][str(sr)] = 1\n",
    "        else:\n",
    "            sampling_rate_dictionary[type][str(sr)] += 1"
   ]
  },
  {
   "cell_type": "code",
   "execution_count": 39,
   "id": "77321fd0-0ecf-4909-a884-080ef7407bba",
   "metadata": {},
   "outputs": [
    {
     "name": "stdout",
     "output_type": "stream",
     "text": [
      "{'22050': 99}\n",
      "{'22050': 105}\n",
      "{'22050': 15}\n",
      "{'22050': 63}\n"
     ]
    }
   ],
   "source": [
    "for type in types:\n",
    "    print(sampling_rate_dictionary[type])"
   ]
  },
  {
   "cell_type": "markdown",
   "id": "5007b3f1-94e7-428d-891f-92f929e10a22",
   "metadata": {},
   "source": [
    "As we can see, all sampling rate for all audio files are in 22050 hertz."
   ]
  },
  {
   "cell_type": "markdown",
   "id": "ab4b9e33-2b5a-47c6-9736-0098cb8bfdef",
   "metadata": {},
   "source": [
    "We proceed to check the average length of the audio files."
   ]
  },
  {
   "cell_type": "code",
   "execution_count": 59,
   "id": "255e1945-6976-4999-9865-c6ee8c7e5e99",
   "metadata": {},
   "outputs": [
    {
     "name": "stdout",
     "output_type": "stream",
     "text": [
      "Asthma\n",
      "count    29.000000\n",
      "mean     16.296847\n",
      "std       5.408483\n",
      "min       5.936009\n",
      "25%      12.528027\n",
      "50%      15.344036\n",
      "75%      19.888027\n",
      "max      30.000000\n",
      "dtype: float64\n",
      "Normal\n",
      "count    34.000000\n",
      "mean     17.971783\n",
      "std       4.948170\n",
      "min       9.840000\n",
      "25%      13.600023\n",
      "50%      17.904014\n",
      "75%      21.584036\n",
      "max      27.888027\n",
      "dtype: float64\n",
      "Pneumonia\n",
      "count     5.000000\n",
      "mean     19.580816\n",
      "std       9.024375\n",
      "min       9.072018\n",
      "25%      11.184036\n",
      "50%      23.472018\n",
      "75%      24.176009\n",
      "max      30.000000\n",
      "dtype: float64\n",
      "Pulmonary Congestion\n",
      "count    20.000000\n",
      "mean     17.049621\n",
      "std       5.676013\n",
      "min       8.368027\n",
      "25%      13.072029\n",
      "50%      15.248005\n",
      "75%      22.160023\n",
      "max      27.568027\n",
      "dtype: float64\n"
     ]
    }
   ],
   "source": [
    "import pandas as pd\n",
    "\n",
    "def func(x):\n",
    "    signal, sr = librosa.load(x)\n",
    "    return len(signal)/sr\n",
    "\n",
    "for type in types:\n",
    "    audio_length_series = pd.Series(os.listdir(f'./data/{type}'))\n",
    "    prefix_series = pd.Series([f'./data/{type}/' for i in range(audio_length_series.size)])\n",
    "    audio_length_series = prefix_series+audio_length_series\n",
    "    audio_length_series = audio_length_series.apply(func)\n",
    "    print(f'{type}')\n",
    "    print(pd.Series(audio_length_series.value_counts().index.tolist()).describe())\n",
    "# for type in types:\n",
    "#     for audio_file in os.listdir(f'./data/{type}'):\n",
    "#         signal, sr = librosa.load(f'./data/{type}/{audio_file}')\n",
    "#         if str(sr) not in sampling_rate_dictionary[type]:\n",
    "#             sampling_rate_dictionary[type][str(sr)] = 1\n",
    "#         else:\n",
    "#             sampling_rate_dictionary[type][str(sr)] += 1"
   ]
  },
  {
   "cell_type": "code",
   "execution_count": null,
   "id": "a637cea7-a0ed-4658-aece-2abdb5f6fa13",
   "metadata": {},
   "outputs": [],
   "source": []
  }
 ],
 "metadata": {
  "kernelspec": {
   "display_name": "Python 3 (ipykernel)",
   "language": "python",
   "name": "python3"
  },
  "language_info": {
   "codemirror_mode": {
    "name": "ipython",
    "version": 3
   },
   "file_extension": ".py",
   "mimetype": "text/x-python",
   "name": "python",
   "nbconvert_exporter": "python",
   "pygments_lexer": "ipython3",
   "version": "3.11.5"
  }
 },
 "nbformat": 4,
 "nbformat_minor": 5
}
